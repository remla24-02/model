{
 "cells": [
  {
   "cell_type": "markdown",
   "id": "6a4615c5",
   "metadata": {
    "papermill": {
     "duration": 0.005353,
     "end_time": "2024-04-21T08:27:49.035170",
     "exception": false,
     "start_time": "2024-04-21T08:27:49.029817",
     "status": "completed"
    },
    "tags": []
   },
   "source": [
    "**Importing the Libraries**"
   ]
  },
  {
   "cell_type": "code",
   "execution_count": 1,
   "id": "86db5587",
   "metadata": {
    "execution": {
     "iopub.execute_input": "2024-04-21T08:27:49.046756Z",
     "iopub.status.busy": "2024-04-21T08:27:49.046006Z",
     "iopub.status.idle": "2024-04-21T08:28:03.973519Z",
     "shell.execute_reply": "2024-04-21T08:28:03.972694Z"
    },
    "papermill": {
     "duration": 14.935696,
     "end_time": "2024-04-21T08:28:03.975832",
     "exception": false,
     "start_time": "2024-04-21T08:27:49.040136",
     "status": "completed"
    },
    "tags": []
   },
   "outputs": [
    {
     "name": "stderr",
     "output_type": "stream",
     "text": [
      "2024-04-21 08:27:52.390722: E external/local_xla/xla/stream_executor/cuda/cuda_dnn.cc:9261] Unable to register cuDNN factory: Attempting to register factory for plugin cuDNN when one has already been registered\n",
      "2024-04-21 08:27:52.390820: E external/local_xla/xla/stream_executor/cuda/cuda_fft.cc:607] Unable to register cuFFT factory: Attempting to register factory for plugin cuFFT when one has already been registered\n",
      "2024-04-21 08:27:52.552098: E external/local_xla/xla/stream_executor/cuda/cuda_blas.cc:1515] Unable to register cuBLAS factory: Attempting to register factory for plugin cuBLAS when one has already been registered\n"
     ]
    }
   ],
   "source": [
    "from sklearn.preprocessing import LabelEncoder\n",
    "from tensorflow.keras.preprocessing.text import Tokenizer\n",
    "import numpy as np\n",
    "import pandas as pd\n",
    "from tensorflow.keras.preprocessing.sequence import pad_sequences\n",
    "import matplotlib.pyplot as plt\n",
    "from keras.models import Sequential\n",
    "from keras.layers import Dense, Dropout, Embedding, Conv1D, MaxPooling1D, Flatten\n",
    "from keras.preprocessing.sequence import pad_sequences\n",
    "from sklearn.preprocessing import LabelEncoder\n",
    "from sklearn.metrics import classification_report, confusion_matrix"
   ]
  },
  {
   "cell_type": "markdown",
   "id": "6a881e82",
   "metadata": {
    "papermill": {
     "duration": 0.004549,
     "end_time": "2024-04-21T08:28:03.985276",
     "exception": false,
     "start_time": "2024-04-21T08:28:03.980727",
     "status": "completed"
    },
    "tags": []
   },
   "source": [
    "**Loading the Dataset**"
   ]
  },
  {
   "cell_type": "code",
   "execution_count": 2,
   "id": "581990fc",
   "metadata": {
    "execution": {
     "iopub.execute_input": "2024-04-21T08:28:03.995907Z",
     "iopub.status.busy": "2024-04-21T08:28:03.995372Z",
     "iopub.status.idle": "2024-04-21T08:28:08.559695Z",
     "shell.execute_reply": "2024-04-21T08:28:08.558700Z"
    },
    "papermill": {
     "duration": 4.572183,
     "end_time": "2024-04-21T08:28:08.562032",
     "exception": false,
     "start_time": "2024-04-21T08:28:03.989849",
     "status": "completed"
    },
    "tags": []
   },
   "outputs": [],
   "source": [
    "train = [line.strip() for line in open(\"/kaggle/input/dl-dataset/DL Dataset/train.txt\", \"r\").readlines()[1:]]\n",
    "raw_x_train = [line.split(\"\\t\")[1] for line in train]\n",
    "raw_y_train = [line.split(\"\\t\")[0] for line in train]\n",
    "\n",
    "test = [line.strip() for line in open(\"/kaggle/input/dl-dataset/DL Dataset/test.txt\", \"r\").readlines()]\n",
    "raw_x_test = [line.split(\"\\t\")[1] for line in test]\n",
    "raw_y_test = [line.split(\"\\t\")[0] for line in test]\n",
    "\n",
    "val=[line.strip() for line in open(\"/kaggle/input/dl-dataset/DL Dataset/val.txt\", \"r\").readlines()]\n",
    "raw_x_val=[line.split(\"\\t\")[1] for line in val]\n",
    "raw_y_val=[line.split(\"\\t\")[0] for line in val]\n"
   ]
  },
  {
   "cell_type": "markdown",
   "id": "da8d7780",
   "metadata": {
    "papermill": {
     "duration": 0.004581,
     "end_time": "2024-04-21T08:28:08.571515",
     "exception": false,
     "start_time": "2024-04-21T08:28:08.566934",
     "status": "completed"
    },
    "tags": []
   },
   "source": [
    "**Tokenizing the Dataset**"
   ]
  },
  {
   "cell_type": "code",
   "execution_count": 3,
   "id": "4e282fcf",
   "metadata": {
    "execution": {
     "iopub.execute_input": "2024-04-21T08:28:08.581883Z",
     "iopub.status.busy": "2024-04-21T08:28:08.581551Z",
     "iopub.status.idle": "2024-04-21T08:30:13.125795Z",
     "shell.execute_reply": "2024-04-21T08:30:13.124991Z"
    },
    "papermill": {
     "duration": 124.552009,
     "end_time": "2024-04-21T08:30:13.128145",
     "exception": false,
     "start_time": "2024-04-21T08:28:08.576136",
     "status": "completed"
    },
    "tags": []
   },
   "outputs": [],
   "source": [
    "tokenizer = Tokenizer(lower=True, char_level=True, oov_token='-n-')\n",
    "tokenizer.fit_on_texts(raw_x_train + raw_x_val + raw_x_test)\n",
    "char_index = tokenizer.word_index\n",
    "sequence_length=200\n",
    "x_train = pad_sequences(tokenizer.texts_to_sequences(raw_x_train), maxlen=sequence_length)\n",
    "x_val = pad_sequences(tokenizer.texts_to_sequences(raw_x_val), maxlen=sequence_length)\n",
    "x_test = pad_sequences(tokenizer.texts_to_sequences(raw_x_test), maxlen=sequence_length)\n",
    "\n",
    "encoder = LabelEncoder()\n",
    "\n",
    "y_train = encoder.fit_transform(raw_y_train)\n",
    "y_val = encoder.transform(raw_y_val)\n",
    "y_test = encoder.transform(raw_y_test)"
   ]
  },
  {
   "cell_type": "markdown",
   "id": "79b86741",
   "metadata": {
    "papermill": {
     "duration": 0.004392,
     "end_time": "2024-04-21T08:30:13.137808",
     "exception": false,
     "start_time": "2024-04-21T08:30:13.133416",
     "status": "completed"
    },
    "tags": []
   },
   "source": [
    "**Parameters**"
   ]
  },
  {
   "cell_type": "code",
   "execution_count": 4,
   "id": "e6f60641",
   "metadata": {
    "execution": {
     "iopub.execute_input": "2024-04-21T08:30:13.148572Z",
     "iopub.status.busy": "2024-04-21T08:30:13.147950Z",
     "iopub.status.idle": "2024-04-21T08:30:13.153168Z",
     "shell.execute_reply": "2024-04-21T08:30:13.152275Z"
    },
    "papermill": {
     "duration": 0.012662,
     "end_time": "2024-04-21T08:30:13.155026",
     "exception": false,
     "start_time": "2024-04-21T08:30:13.142364",
     "status": "completed"
    },
    "tags": []
   },
   "outputs": [],
   "source": [
    "params = {'loss_function': 'binary_crossentropy',\n",
    "                       'optimizer': 'adam',\n",
    "                       'sequence_length': 200,\n",
    "                       'batch_train': 5000,\n",
    "                       'batch_test': 5000,\n",
    "                       'categories': ['phishing', 'legitimate'],\n",
    "                       'char_index': None,\n",
    "                       'epoch': 30,\n",
    "                       'embedding_dimension': 50,\n",
    "                       'dataset_dir': \"../dataset/small_dataset/\"}"
   ]
  },
  {
   "cell_type": "markdown",
   "id": "bbf02f3b",
   "metadata": {
    "papermill": {
     "duration": 0.004389,
     "end_time": "2024-04-21T08:30:13.164191",
     "exception": false,
     "start_time": "2024-04-21T08:30:13.159802",
     "status": "completed"
    },
    "tags": []
   },
   "source": [
    "**Model Definition**"
   ]
  },
  {
   "cell_type": "code",
   "execution_count": 5,
   "id": "d8a776f1",
   "metadata": {
    "execution": {
     "iopub.execute_input": "2024-04-21T08:30:13.175303Z",
     "iopub.status.busy": "2024-04-21T08:30:13.174493Z",
     "iopub.status.idle": "2024-04-21T08:30:14.085406Z",
     "shell.execute_reply": "2024-04-21T08:30:14.084272Z"
    },
    "papermill": {
     "duration": 0.918683,
     "end_time": "2024-04-21T08:30:14.087757",
     "exception": false,
     "start_time": "2024-04-21T08:30:13.169074",
     "status": "completed"
    },
    "tags": []
   },
   "outputs": [
    {
     "name": "stdout",
     "output_type": "stream",
     "text": [
      "voc_size: 71\n"
     ]
    }
   ],
   "source": [
    "from keras.models import Sequential\n",
    "from keras.layers import Embedding, Conv1D, MaxPooling1D, Flatten, Dense\n",
    "model = Sequential()\n",
    "voc_size = len(char_index.keys())\n",
    "print(\"voc_size: {}\".format(voc_size))\n",
    "model.add(Embedding(voc_size + 1, 50))\n",
    "\n",
    "model.add(Conv1D(128, 3, activation='tanh'))\n",
    "model.add(MaxPooling1D(3))\n",
    "model.add(Dropout(0.2))\n",
    "\n",
    "model.add(Conv1D(128, 7, activation='tanh', padding='same'))\n",
    "model.add(Dropout(0.2))\n",
    "\n",
    "model.add(Conv1D(128, 5, activation='tanh', padding='same'))\n",
    "model.add(Dropout(0.2))\n",
    "\n",
    "model.add(Conv1D(128, 3, activation='tanh', padding='same'))\n",
    "model.add(MaxPooling1D(3))\n",
    "model.add(Dropout(0.2))\n",
    "\n",
    "model.add(Conv1D(128, 5, activation='tanh', padding='same'))\n",
    "model.add(Dropout(0.2))\n",
    "\n",
    "model.add(Conv1D(128, 3, activation='tanh', padding='same'))\n",
    "model.add(MaxPooling1D(3))\n",
    "model.add(Dropout(0.2))\n",
    "\n",
    "model.add(Conv1D(128, 3, activation='tanh', padding='same'))\n",
    "model.add(MaxPooling1D(3))\n",
    "model.add(Dropout(0.2))\n",
    "\n",
    "model.add(Flatten())\n",
    "\n",
    "model.add(Dense(len(params['categories'])-1, activation='sigmoid'))\n",
    "\n"
   ]
  },
  {
   "cell_type": "markdown",
   "id": "90b2a426",
   "metadata": {
    "papermill": {
     "duration": 0.005232,
     "end_time": "2024-04-21T08:30:14.098591",
     "exception": false,
     "start_time": "2024-04-21T08:30:14.093359",
     "status": "completed"
    },
    "tags": []
   },
   "source": [
    "**Training**"
   ]
  },
  {
   "cell_type": "code",
   "execution_count": 6,
   "id": "869988dd",
   "metadata": {
    "execution": {
     "iopub.execute_input": "2024-04-21T08:30:14.112043Z",
     "iopub.status.busy": "2024-04-21T08:30:14.111616Z",
     "iopub.status.idle": "2024-04-21T09:10:43.694728Z",
     "shell.execute_reply": "2024-04-21T09:10:43.693709Z"
    },
    "papermill": {
     "duration": 2429.591841,
     "end_time": "2024-04-21T09:10:43.697011",
     "exception": false,
     "start_time": "2024-04-21T08:30:14.105170",
     "status": "completed"
    },
    "tags": []
   },
   "outputs": [
    {
     "name": "stdout",
     "output_type": "stream",
     "text": [
      "Epoch 1/30\n"
     ]
    },
    {
     "name": "stderr",
     "output_type": "stream",
     "text": [
      "WARNING: All log messages before absl::InitializeLog() is called are written to STDERR\n",
      "I0000 00:00:1713688277.447040      72 device_compiler.h:186] Compiled cluster using XLA!  This line is logged at most once for the lifetime of the process.\n"
     ]
    },
    {
     "name": "stdout",
     "output_type": "stream",
     "text": [
      "\u001b[1m210/210\u001b[0m \u001b[32m━━━━━━━━━━━━━━━━━━━━\u001b[0m\u001b[37m\u001b[0m \u001b[1m161s\u001b[0m 469ms/step - accuracy: 0.7780 - loss: 0.4280 - val_accuracy: 0.9492 - val_loss: 0.1279\n",
      "Epoch 2/30\n",
      "\u001b[1m210/210\u001b[0m \u001b[32m━━━━━━━━━━━━━━━━━━━━\u001b[0m\u001b[37m\u001b[0m \u001b[1m78s\u001b[0m 371ms/step - accuracy: 0.9459 - loss: 0.1364 - val_accuracy: 0.9594 - val_loss: 0.1029\n",
      "Epoch 3/30\n",
      "\u001b[1m210/210\u001b[0m \u001b[32m━━━━━━━━━━━━━━━━━━━━\u001b[0m\u001b[37m\u001b[0m \u001b[1m78s\u001b[0m 371ms/step - accuracy: 0.9554 - loss: 0.1125 - val_accuracy: 0.9642 - val_loss: 0.0925\n",
      "Epoch 4/30\n",
      "\u001b[1m210/210\u001b[0m \u001b[32m━━━━━━━━━━━━━━━━━━━━\u001b[0m\u001b[37m\u001b[0m \u001b[1m78s\u001b[0m 371ms/step - accuracy: 0.9594 - loss: 0.1023 - val_accuracy: 0.9661 - val_loss: 0.0890\n",
      "Epoch 5/30\n",
      "\u001b[1m210/210\u001b[0m \u001b[32m━━━━━━━━━━━━━━━━━━━━\u001b[0m\u001b[37m\u001b[0m \u001b[1m78s\u001b[0m 372ms/step - accuracy: 0.9630 - loss: 0.0939 - val_accuracy: 0.9661 - val_loss: 0.0887\n",
      "Epoch 6/30\n",
      "\u001b[1m210/210\u001b[0m \u001b[32m━━━━━━━━━━━━━━━━━━━━\u001b[0m\u001b[37m\u001b[0m \u001b[1m78s\u001b[0m 371ms/step - accuracy: 0.9657 - loss: 0.0875 - val_accuracy: 0.9708 - val_loss: 0.0760\n",
      "Epoch 7/30\n",
      "\u001b[1m210/210\u001b[0m \u001b[32m━━━━━━━━━━━━━━━━━━━━\u001b[0m\u001b[37m\u001b[0m \u001b[1m78s\u001b[0m 371ms/step - accuracy: 0.9675 - loss: 0.0826 - val_accuracy: 0.9706 - val_loss: 0.0766\n",
      "Epoch 8/30\n",
      "\u001b[1m210/210\u001b[0m \u001b[32m━━━━━━━━━━━━━━━━━━━━\u001b[0m\u001b[37m\u001b[0m \u001b[1m78s\u001b[0m 371ms/step - accuracy: 0.9687 - loss: 0.0793 - val_accuracy: 0.9720 - val_loss: 0.0728\n",
      "Epoch 9/30\n",
      "\u001b[1m210/210\u001b[0m \u001b[32m━━━━━━━━━━━━━━━━━━━━\u001b[0m\u001b[37m\u001b[0m \u001b[1m78s\u001b[0m 371ms/step - accuracy: 0.9697 - loss: 0.0769 - val_accuracy: 0.9741 - val_loss: 0.0670\n",
      "Epoch 10/30\n",
      "\u001b[1m210/210\u001b[0m \u001b[32m━━━━━━━━━━━━━━━━━━━━\u001b[0m\u001b[37m\u001b[0m \u001b[1m78s\u001b[0m 371ms/step - accuracy: 0.9711 - loss: 0.0742 - val_accuracy: 0.9740 - val_loss: 0.0676\n",
      "Epoch 11/30\n",
      "\u001b[1m210/210\u001b[0m \u001b[32m━━━━━━━━━━━━━━━━━━━━\u001b[0m\u001b[37m\u001b[0m \u001b[1m78s\u001b[0m 371ms/step - accuracy: 0.9712 - loss: 0.0735 - val_accuracy: 0.9753 - val_loss: 0.0636\n",
      "Epoch 12/30\n",
      "\u001b[1m210/210\u001b[0m \u001b[32m━━━━━━━━━━━━━━━━━━━━\u001b[0m\u001b[37m\u001b[0m \u001b[1m78s\u001b[0m 371ms/step - accuracy: 0.9721 - loss: 0.0711 - val_accuracy: 0.9755 - val_loss: 0.0633\n",
      "Epoch 13/30\n",
      "\u001b[1m210/210\u001b[0m \u001b[32m━━━━━━━━━━━━━━━━━━━━\u001b[0m\u001b[37m\u001b[0m \u001b[1m78s\u001b[0m 371ms/step - accuracy: 0.9726 - loss: 0.0699 - val_accuracy: 0.9761 - val_loss: 0.0624\n",
      "Epoch 14/30\n",
      "\u001b[1m210/210\u001b[0m \u001b[32m━━━━━━━━━━━━━━━━━━━━\u001b[0m\u001b[37m\u001b[0m \u001b[1m78s\u001b[0m 371ms/step - accuracy: 0.9734 - loss: 0.0676 - val_accuracy: 0.9710 - val_loss: 0.0764\n",
      "Epoch 15/30\n",
      "\u001b[1m210/210\u001b[0m \u001b[32m━━━━━━━━━━━━━━━━━━━━\u001b[0m\u001b[37m\u001b[0m \u001b[1m78s\u001b[0m 371ms/step - accuracy: 0.9741 - loss: 0.0672 - val_accuracy: 0.9772 - val_loss: 0.0592\n",
      "Epoch 16/30\n",
      "\u001b[1m210/210\u001b[0m \u001b[32m━━━━━━━━━━━━━━━━━━━━\u001b[0m\u001b[37m\u001b[0m \u001b[1m78s\u001b[0m 371ms/step - accuracy: 0.9745 - loss: 0.0650 - val_accuracy: 0.9774 - val_loss: 0.0587\n",
      "Epoch 17/30\n",
      "\u001b[1m210/210\u001b[0m \u001b[32m━━━━━━━━━━━━━━━━━━━━\u001b[0m\u001b[37m\u001b[0m \u001b[1m78s\u001b[0m 371ms/step - accuracy: 0.9749 - loss: 0.0645 - val_accuracy: 0.9755 - val_loss: 0.0637\n",
      "Epoch 18/30\n",
      "\u001b[1m210/210\u001b[0m \u001b[32m━━━━━━━━━━━━━━━━━━━━\u001b[0m\u001b[37m\u001b[0m \u001b[1m78s\u001b[0m 371ms/step - accuracy: 0.9754 - loss: 0.0629 - val_accuracy: 0.9777 - val_loss: 0.0582\n",
      "Epoch 19/30\n",
      "\u001b[1m210/210\u001b[0m \u001b[32m━━━━━━━━━━━━━━━━━━━━\u001b[0m\u001b[37m\u001b[0m \u001b[1m78s\u001b[0m 371ms/step - accuracy: 0.9751 - loss: 0.0642 - val_accuracy: 0.9780 - val_loss: 0.0578\n",
      "Epoch 20/30\n",
      "\u001b[1m210/210\u001b[0m \u001b[32m━━━━━━━━━━━━━━━━━━━━\u001b[0m\u001b[37m\u001b[0m \u001b[1m82s\u001b[0m 370ms/step - accuracy: 0.9759 - loss: 0.0616 - val_accuracy: 0.9764 - val_loss: 0.0609\n",
      "Epoch 21/30\n",
      "\u001b[1m210/210\u001b[0m \u001b[32m━━━━━━━━━━━━━━━━━━━━\u001b[0m\u001b[37m\u001b[0m \u001b[1m78s\u001b[0m 371ms/step - accuracy: 0.9761 - loss: 0.0617 - val_accuracy: 0.9774 - val_loss: 0.0602\n",
      "Epoch 22/30\n",
      "\u001b[1m210/210\u001b[0m \u001b[32m━━━━━━━━━━━━━━━━━━━━\u001b[0m\u001b[37m\u001b[0m \u001b[1m78s\u001b[0m 371ms/step - accuracy: 0.9765 - loss: 0.0601 - val_accuracy: 0.9779 - val_loss: 0.0576\n",
      "Epoch 23/30\n",
      "\u001b[1m210/210\u001b[0m \u001b[32m━━━━━━━━━━━━━━━━━━━━\u001b[0m\u001b[37m\u001b[0m \u001b[1m78s\u001b[0m 371ms/step - accuracy: 0.9767 - loss: 0.0602 - val_accuracy: 0.9773 - val_loss: 0.0607\n",
      "Epoch 24/30\n",
      "\u001b[1m210/210\u001b[0m \u001b[32m━━━━━━━━━━━━━━━━━━━━\u001b[0m\u001b[37m\u001b[0m \u001b[1m78s\u001b[0m 371ms/step - accuracy: 0.9771 - loss: 0.0585 - val_accuracy: 0.9789 - val_loss: 0.0565\n",
      "Epoch 25/30\n",
      "\u001b[1m210/210\u001b[0m \u001b[32m━━━━━━━━━━━━━━━━━━━━\u001b[0m\u001b[37m\u001b[0m \u001b[1m78s\u001b[0m 371ms/step - accuracy: 0.9776 - loss: 0.0579 - val_accuracy: 0.9796 - val_loss: 0.0539\n",
      "Epoch 26/30\n",
      "\u001b[1m210/210\u001b[0m \u001b[32m━━━━━━━━━━━━━━━━━━━━\u001b[0m\u001b[37m\u001b[0m \u001b[1m78s\u001b[0m 371ms/step - accuracy: 0.9773 - loss: 0.0581 - val_accuracy: 0.9786 - val_loss: 0.0566\n",
      "Epoch 27/30\n",
      "\u001b[1m210/210\u001b[0m \u001b[32m━━━━━━━━━━━━━━━━━━━━\u001b[0m\u001b[37m\u001b[0m \u001b[1m78s\u001b[0m 371ms/step - accuracy: 0.9780 - loss: 0.0565 - val_accuracy: 0.9788 - val_loss: 0.0560\n",
      "Epoch 28/30\n",
      "\u001b[1m210/210\u001b[0m \u001b[32m━━━━━━━━━━━━━━━━━━━━\u001b[0m\u001b[37m\u001b[0m \u001b[1m78s\u001b[0m 371ms/step - accuracy: 0.9781 - loss: 0.0567 - val_accuracy: 0.9788 - val_loss: 0.0564\n",
      "Epoch 29/30\n",
      "\u001b[1m210/210\u001b[0m \u001b[32m━━━━━━━━━━━━━━━━━━━━\u001b[0m\u001b[37m\u001b[0m \u001b[1m78s\u001b[0m 371ms/step - accuracy: 0.9780 - loss: 0.0563 - val_accuracy: 0.9796 - val_loss: 0.0539\n",
      "Epoch 30/30\n",
      "\u001b[1m210/210\u001b[0m \u001b[32m━━━━━━━━━━━━━━━━━━━━\u001b[0m\u001b[37m\u001b[0m \u001b[1m82s\u001b[0m 371ms/step - accuracy: 0.9784 - loss: 0.0556 - val_accuracy: 0.9782 - val_loss: 0.0587\n"
     ]
    }
   ],
   "source": [
    "model.compile(loss=params['loss_function'], optimizer=params['optimizer'], metrics=['accuracy'])\n",
    "\n",
    "\n",
    "hist = model.fit(x_train, y_train,\n",
    "                batch_size=params['batch_train'],\n",
    "                epochs=params['epoch'],\n",
    "                shuffle=True,\n",
    "                validation_data=(x_val, y_val)\n",
    "                )\n"
   ]
  },
  {
   "cell_type": "markdown",
   "id": "72e7489d",
   "metadata": {
    "papermill": {
     "duration": 0.512842,
     "end_time": "2024-04-21T09:10:44.741225",
     "exception": false,
     "start_time": "2024-04-21T09:10:44.228383",
     "status": "completed"
    },
    "tags": []
   },
   "source": [
    "**Prediction**"
   ]
  },
  {
   "cell_type": "code",
   "execution_count": 7,
   "id": "c5147300",
   "metadata": {
    "execution": {
     "iopub.execute_input": "2024-04-21T09:10:45.819590Z",
     "iopub.status.busy": "2024-04-21T09:10:45.819246Z",
     "iopub.status.idle": "2024-04-21T09:10:56.717387Z",
     "shell.execute_reply": "2024-04-21T09:10:56.716256Z"
    },
    "papermill": {
     "duration": 11.461596,
     "end_time": "2024-04-21T09:10:56.719521",
     "exception": false,
     "start_time": "2024-04-21T09:10:45.257925",
     "status": "completed"
    },
    "tags": []
   },
   "outputs": [
    {
     "name": "stdout",
     "output_type": "stream",
     "text": [
      "\u001b[1m365/365\u001b[0m \u001b[32m━━━━━━━━━━━━━━━━━━━━\u001b[0m\u001b[37m\u001b[0m \u001b[1m10s\u001b[0m 20ms/step\n",
      "[[3.0322914e-04]\n",
      " [9.9987245e-01]\n",
      " [9.9953967e-01]\n",
      " ...\n",
      " [2.5733060e-04]\n",
      " [9.9827147e-01]\n",
      " [9.9795902e-01]]\n"
     ]
    }
   ],
   "source": [
    "y_pred = model.predict(x_test, batch_size=1000)\n",
    "print(y_pred)\n",
    "\n"
   ]
  },
  {
   "cell_type": "markdown",
   "id": "55306633",
   "metadata": {
    "papermill": {
     "duration": 0.556014,
     "end_time": "2024-04-21T09:10:57.819210",
     "exception": false,
     "start_time": "2024-04-21T09:10:57.263196",
     "status": "completed"
    },
    "tags": []
   },
   "source": [
    "**Prediction**"
   ]
  },
  {
   "cell_type": "code",
   "execution_count": 8,
   "id": "8ba4da17",
   "metadata": {
    "execution": {
     "iopub.execute_input": "2024-04-21T09:10:58.945177Z",
     "iopub.status.busy": "2024-04-21T09:10:58.944251Z",
     "iopub.status.idle": "2024-04-21T09:10:59.196816Z",
     "shell.execute_reply": "2024-04-21T09:10:59.195678Z"
    },
    "papermill": {
     "duration": 0.794545,
     "end_time": "2024-04-21T09:10:59.199537",
     "exception": false,
     "start_time": "2024-04-21T09:10:58.404992",
     "status": "completed"
    },
    "tags": []
   },
   "outputs": [
    {
     "name": "stdout",
     "output_type": "stream",
     "text": [
      "Classification Report:\n",
      "              precision    recall  f1-score   support\n",
      "\n",
      "           0       0.97      0.99      0.98    201736\n",
      "           1       0.99      0.97      0.98    162463\n",
      "\n",
      "    accuracy                           0.98    364199\n",
      "   macro avg       0.98      0.98      0.98    364199\n",
      "weighted avg       0.98      0.98      0.98    364199\n",
      "\n",
      "Confusion Matrix: [[200168   1568]\n",
      " [  5320 157143]]\n",
      "Accuracy: 0.9810872627327367\n"
     ]
    }
   ],
   "source": [
    "from sklearn.metrics import classification_report, confusion_matrix,accuracy_score\n",
    "\n",
    "# Convert predicted probabilities to binary labels\n",
    "y_pred_binary = (np.array(y_pred) > 0.5).astype(int)\n",
    "y_test=y_test.reshape(-1,1)\n",
    "\n",
    "# Calculate classification report\n",
    "report = classification_report(y_test, y_pred_binary)\n",
    "print('Classification Report:')\n",
    "print(report)\n",
    "\n",
    "# Calculate confusion matrix\n",
    "confusion_mat = confusion_matrix(y_test, y_pred_binary)\n",
    "print('Confusion Matrix:', confusion_mat)\n",
    "print('Accuracy:',accuracy_score(y_test,y_pred_binary))"
   ]
  },
  {
   "cell_type": "markdown",
   "id": "e8d7ae2d",
   "metadata": {
    "papermill": {
     "duration": 0.529743,
     "end_time": "2024-04-21T09:11:00.312783",
     "exception": false,
     "start_time": "2024-04-21T09:10:59.783040",
     "status": "completed"
    },
    "tags": []
   },
   "source": [
    "**Confusion Matrix **"
   ]
  },
  {
   "cell_type": "code",
   "execution_count": 9,
   "id": "b2066dcd",
   "metadata": {
    "execution": {
     "iopub.execute_input": "2024-04-21T09:11:01.373701Z",
     "iopub.status.busy": "2024-04-21T09:11:01.373290Z",
     "iopub.status.idle": "2024-04-21T09:11:02.029483Z",
     "shell.execute_reply": "2024-04-21T09:11:02.028465Z"
    },
    "papermill": {
     "duration": 1.188711,
     "end_time": "2024-04-21T09:11:02.031792",
     "exception": false,
     "start_time": "2024-04-21T09:11:00.843081",
     "status": "completed"
    },
    "tags": []
   },
   "outputs": [
    {
     "data": {
      "text/plain": [
       "<Axes: >"
      ]
     },
     "execution_count": 9,
     "metadata": {},
     "output_type": "execute_result"
    },
    {
     "data": {
      "image/png": "[encoded data removed]",
      "text/plain": [
       "<Figure size 640x480 with 2 Axes>"
      ]
     },
     "metadata": {},
     "output_type": "display_data"
    }
   ],
   "source": [
    "import seaborn as sns\n",
    "sns.heatmap(confusion_mat,annot=True)"
   ]
  }
 ],
 "metadata": {
  "kaggle": {
   "accelerator": "nvidiaTeslaT4",
   "dataSources": [
    {
     "datasetId": 4696964,
     "sourceId": 7980464,
     "sourceType": "datasetVersion"
    }
   ],
   "isGpuEnabled": true,
   "isInternetEnabled": false,
   "language": "python",
   "sourceType": "notebook"
  },
  "kernelspec": {
   "display_name": "Python 3",
   "language": "python",
   "name": "python3"
  },
  "language_info": {
   "codemirror_mode": {
    "name": "ipython",
    "version": 3
   },
   "file_extension": ".py",
   "mimetype": "text/x-python",
   "name": "python",
   "nbconvert_exporter": "python",
   "pygments_lexer": "ipython3",
   "version": "3.10.13"
  },
  "papermill": {
   "default_parameters": {},
   "duration": 2599.792659,
   "end_time": "2024-04-21T09:11:05.861552",
   "environment_variables": {},
   "exception": null,
   "input_path": "__notebook__.ipynb",
   "output_path": "__notebook__.ipynb",
   "parameters": {},
   "start_time": "2024-04-21T08:27:46.068893",
   "version": "2.5.0"
  }
 },
 "nbformat": 4,
 "nbformat_minor": 5
}
